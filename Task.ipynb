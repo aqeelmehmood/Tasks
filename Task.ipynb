{
 "cells": [
  {
   "cell_type": "code",
   "execution_count": 50,
   "metadata": {},
   "outputs": [
    {
     "name": "stdout",
     "output_type": "stream",
     "text": [
      "Enter a text : Aqeel &^%&$*&^* Mehmood\n",
      "Aqeel  Mehmood\n"
     ]
    }
   ],
   "source": [
    "def remove_Punctuation(text): \n",
    "    punctuations = '''!()-[]{};:'\"\\,<>./?@#$%^&*_~''' \n",
    "    for x in text.lower(): \n",
    "        if x in punctuations: \n",
    "            text = text.replace(x, \" \") \n",
    "    print(text) \n",
    "text=input(\"Enter a text : \")\n",
    "(Punctuation(text)) \n"
   ]
  },
  {
   "cell_type": "code",
   "execution_count": 22,
   "metadata": {},
   "outputs": [
    {
     "name": "stdout",
     "output_type": "stream",
     "text": [
      "Enter a Text : Aqeel123445567678778777576766\n",
      "final string :  Aqeel\n"
     ]
    }
   ],
   "source": [
    "def Remove_Numbers():\n",
    "    input_string =input(\"Enter a Text : \")\n",
    "    result = ''.join([i for i in input_string if not i.isdigit()]) \n",
    "    print(\"final string : \", result)\n",
    "Remove_Numbers()\n",
    "\n"
   ]
  },
  {
   "cell_type": "code",
   "execution_count": 32,
   "metadata": {},
   "outputs": [
    {
     "name": "stdout",
     "output_type": "stream",
     "text": [
      "Enter a TextAqeel  Mehmood\n",
      "Without Extra Spaces: Aqeel Mehmood\n"
     ]
    }
   ],
   "source": [
    "import re\n",
    "def multiplespace_remove():\n",
    "    input_string =input(\"Enter a Text\")\n",
    "    print(\"Without Extra Spaces:\",re.sub(' +',' ',input_string))\n",
    "multiplespace_remove()"
   ]
  },
  {
   "cell_type": "code",
   "execution_count": 47,
   "metadata": {},
   "outputs": [
    {
     "name": "stdout",
     "output_type": "stream",
     "text": [
      "Enter a Text : Aqeel Mehmood bhand\n"
     ]
    },
    {
     "data": {
      "text/plain": [
       "19"
      ]
     },
     "execution_count": 47,
     "metadata": {},
     "output_type": "execute_result"
    }
   ],
   "source": [
    "def count_characters(text):\n",
    "    text=input(\"Enter a Text : \")\n",
    "    result = 0\n",
    "    for char in text:\n",
    "        result += 1     \n",
    "    return result\n",
    "count_characters(text)\n"
   ]
  },
  {
   "cell_type": "code",
   "execution_count": 61,
   "metadata": {},
   "outputs": [
    {
     "name": "stdout",
     "output_type": "stream",
     "text": [
      "Enter a String : Aqeel Mehmood How are you\n",
      "The number of words in string are : 5\n"
     ]
    }
   ],
   "source": [
    "#import string \n",
    "def counting_Words():\n",
    "    input_string=input(\"Enter a String : \")\n",
    "    results = sum([i.strip(string.punctuation).isalpha() for i in input_string.split()]) \n",
    "    print (\"The number of words in string are : \" + str(results)) \n",
    "counting_Words()"
   ]
  },
  {
   "cell_type": "code",
   "execution_count": 74,
   "metadata": {},
   "outputs": [
    {
     "name": "stdout",
     "output_type": "stream",
     "text": [
      "Enter a Text : Aqeel Mehmood Mehmood\n",
      "Aqeel Mehmood\n"
     ]
    }
   ],
   "source": [
    "def Remove_RepeatingWords():\n",
    "    input_string = input(\"Enter a Text : \")\n",
    "    l = input_string.split() \n",
    "    new_list = [] \n",
    "    for i in l: \n",
    "        if (input_string.count(i)>1 and (i not in new_list)or input_string.count(i)==1): \n",
    "            new_list.append(i) \n",
    "    print(' '.join(new_list)) \n",
    "\n",
    "Remove_RepeatingWords()"
   ]
  },
  {
   "cell_type": "code",
   "execution_count": null,
   "metadata": {},
   "outputs": [],
   "source": []
  }
 ],
 "metadata": {
  "kernelspec": {
   "display_name": "Python 3",
   "language": "python",
   "name": "python3"
  },
  "language_info": {
   "codemirror_mode": {
    "name": "ipython",
    "version": 3
   },
   "file_extension": ".py",
   "mimetype": "text/x-python",
   "name": "python",
   "nbconvert_exporter": "python",
   "pygments_lexer": "ipython3",
   "version": "3.7.6"
  }
 },
 "nbformat": 4,
 "nbformat_minor": 4
}
