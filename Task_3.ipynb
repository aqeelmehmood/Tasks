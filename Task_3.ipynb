{
 "cells": [
  {
   "cell_type": "code",
   "execution_count": 21,
   "metadata": {},
   "outputs": [
    {
     "name": "stdout",
     "output_type": "stream",
     "text": [
      "Mode is / are: 4\n"
     ]
    }
   ],
   "source": [
    " \n",
    "from collections import Counter \n",
    "\n",
    "# list of elements to calculate mode \n",
    "numbers = [1, 2, 3, 4, 4, 5] \n",
    "n = len(numbers) \n",
    "\n",
    "data = Counter(numbers) \n",
    "get_mode = dict(data) \n",
    "mode = [k for k, v in get_mode.items() if v == max(list(data.values()))] \n",
    "\n",
    "if len(mode) == n: \n",
    "    get_mode = \"No mode found\"\n",
    "else: \n",
    "    get_mode = \"Mode is / are: \" + ', '.join(map(str, mode)) \n",
    "\n",
    "print(get_mode) \n",
    "\n"
   ]
  },
  {
   "cell_type": "code",
   "execution_count": 18,
   "metadata": {},
   "outputs": [
    {
     "name": "stdout",
     "output_type": "stream",
     "text": [
      "Median is: 6.5\n"
     ]
    }
   ],
   "source": [
    "\n",
    "numbers = [1, 2, 3, 4, 5,6,7,8,9,10,11,12] \n",
    "n = len(numbers) \n",
    "numbers.sort() \n",
    "\n",
    "if n % 2 == 0: \n",
    "    median1 = numbers[n//2] \n",
    "    median2 = numbers[n//2 - 1] \n",
    "    median = (median1 + median2)/2\n",
    "else: \n",
    "    median = numbers[n//2] \n",
    "print(\"Median is: \" + str(median)) \n"
   ]
  },
  {
   "cell_type": "code",
   "execution_count": 29,
   "metadata": {},
   "outputs": [
    {
     "name": "stdout",
     "output_type": "stream",
     "text": [
      "Enter a NUmber : 3\n",
      "Enter a NUmber : 4\n",
      "Enter a NUmber : 5\n",
      "Enter a NUmber : 6\n",
      "Enter a NUmber : 7\n",
      "Mean is 5.0\n"
     ]
    }
   ],
   "source": [
    "n1=int(input(\"Enter a NUmber : \"))\n",
    "n2=int(input(\"Enter a NUmber : \"))\n",
    "n3=int(input(\"Enter a NUmber : \"))\n",
    "n4=int(input(\"Enter a NUmber : \"))\n",
    "n5=int(input(\"Enter a NUmber : \"))\n",
    "numbers = [n1,n2,n3,n4,n5]\n",
    "\n",
    "Sum_input = (n1 + n2 + n3 + n4 + n5)\n",
    "Number_of_Data= 5\n",
    "\n",
    "Average_mean  = (n1 + n2 + n3 + n4 + n5) / 5\n",
    "print(\"Mean is \" + str(Average_mean))\n"
   ]
  },
  {
   "cell_type": "markdown",
   "metadata": {},
   "source": [
    "Functions"
   ]
  },
  {
   "cell_type": "code",
   "execution_count": 33,
   "metadata": {},
   "outputs": [
    {
     "name": "stdout",
     "output_type": "stream",
     "text": [
      "Mean is : 6.285714285714286\n"
     ]
    }
   ],
   "source": [
    "\n",
    "import statistics \n",
    "alist = [1, 3, 4, 8, 7, 9, 12] \n",
    "\n",
    "x = statistics.mean(alist)  \n",
    "print(\"Mean is :\", x) \n"
   ]
  },
  {
   "cell_type": "code",
   "execution_count": 34,
   "metadata": {},
   "outputs": [
    {
     "name": "stdout",
     "output_type": "stream",
     "text": [
      "Median is : 7\n"
     ]
    }
   ],
   "source": [
    "import statistics \n",
    "alist = [1, 3, 4, 8, 7, 9, 12] \n",
    "\n",
    "x = statistics.median(alist)  \n",
    "print(\"Median is :\", x) \n"
   ]
  },
  {
   "cell_type": "code",
   "execution_count": 36,
   "metadata": {},
   "outputs": [
    {
     "data": {
      "text/plain": [
       "2"
      ]
     },
     "execution_count": 36,
     "metadata": {},
     "output_type": "execute_result"
    }
   ],
   "source": [
    "import statistics\n",
    "\n",
    "statistics.mode([4, 1, 2, 2, 3, 5])\n",
    "\n",
    "\n"
   ]
  },
  {
   "cell_type": "code",
   "execution_count": null,
   "metadata": {},
   "outputs": [],
   "source": []
  }
 ],
 "metadata": {
  "kernelspec": {
   "display_name": "Python 3",
   "language": "python",
   "name": "python3"
  },
  "language_info": {
   "codemirror_mode": {
    "name": "ipython",
    "version": 3
   },
   "file_extension": ".py",
   "mimetype": "text/x-python",
   "name": "python",
   "nbconvert_exporter": "python",
   "pygments_lexer": "ipython3",
   "version": "3.7.6"
  }
 },
 "nbformat": 4,
 "nbformat_minor": 4
}
